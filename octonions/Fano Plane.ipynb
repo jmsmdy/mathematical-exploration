{
 "cells": [
  {
   "cell_type": "markdown",
   "metadata": {},
   "source": [
    "# The Fano Plane\n",
    "\n",
    "The **octonions** are elements of an eight-dimensional non-associative division algbera $\\mathbb{O}$, extending $\\mathbb{Q}$, $\\mathbb{C}$, and $\\mathbb{R}$ (the quaternions, complex numbers, and real numbers).\n",
    "\n",
    "Inside $\\mathbb{O}$ we have eight \"unit octonions\", including 1. The seven unit octionions which are not $1$ we'll label $e_0, e_1, e_2, e_3, e_4, e_5, e_7$. These seven form a space called the **Fano plane**, which looks geometrically like 2-dimensional projective space over the field with 2 elements $\\mathbb{F}_2$ (i.e. the set of lines through the origin in $\\mathbb{F}_2^3$). The following diagram (adapted from John Baez) illustrates which of these units are co-linear in the Fano plane:\n",
    "\n",
    "![](fano.jpg)\n",
    "\n",
    "As we can see, there are seven points, and seven lines in this diagram. But there is more information than just co-linearity in the Fano plane: the \"lines\" (each containing three points) have associated to them an orientation. If the units $x, y, z$ form an oriented line $(x, y, z)$ with the same orientation as in the Fano plane, then $x*y=z$, if they form a line with the opposite orientation, then $x*y = -z$. This rule gives us a way of encoding the multiplication table for the unit octonions (since multiplication by $1$ is trivial)."
   ]
  },
  {
   "cell_type": "markdown",
   "metadata": {},
   "source": [
    "# Finding automorphisms of the Fano plane\n",
    "\n",
    "### We can represent the Fano plane as an \"oriented simplicial complex\"."
   ]
  },
  {
   "cell_type": "code",
   "execution_count": 1,
   "metadata": {},
   "outputs": [],
   "source": [
    "from simplicial import oriented_simplex_complex"
   ]
  },
  {
   "cell_type": "code",
   "execution_count": 2,
   "metadata": {},
   "outputs": [],
   "source": [
    "vertices = {'e0','e1','e2', 'e3', 'e4', 'e5', 'e6'}\n",
    "edges = {('e0', 'e1'), ('e0', 'e2'), ('e0', 'e4'),\n",
    "         ('e1', 'e2'), ('e1', 'e3'), ('e1', 'e5'),\n",
    "         ('e2', 'e3'), ('e2', 'e4'), ('e2', 'e6'),\n",
    "         ('e3', 'e0'), ('e3', 'e4'), ('e3', 'e5'),\n",
    "         ('e4', 'e1'), ('e4', 'e5'), ('e4', 'e6'),\n",
    "         ('e5', 'e0'), ('e5', 'e2'), ('e5', 'e6'),\n",
    "         ('e6', 'e0'), ('e6', 'e1'), ('e6', 'e3')}\n",
    "faces = {('e0', 'e1', 'e3'),\n",
    "         ('e0', 'e2', 'e6'),\n",
    "         ('e0', 'e4', 'e5'),\n",
    "         ('e1', 'e2', 'e4'),\n",
    "         ('e1', 'e5', 'e6'),\n",
    "         ('e2', 'e3', 'e5'),\n",
    "         ('e3', 'e4', 'e6')}\n",
    "\n",
    "data = {'vertices' : vertices, '1-simplices': edges, '2-simplices' : faces}\n",
    "\n",
    "fano = oriented_simplex_complex(data)"
   ]
  },
  {
   "cell_type": "code",
   "execution_count": 3,
   "metadata": {},
   "outputs": [
    {
     "name": "stdout",
     "output_type": "stream",
     "text": [
      "Vertices \n",
      " {'e6', 'e5', 'e2', 'e1', 'e3', 'e4', 'e0'} \n",
      "\n",
      " Edges \n",
      " {('e5', 'e2'), ('e3', 'e5'), ('e4', 'e1'), ('e0', 'e4'), ('e5', 'e0'), ('e3', 'e4'), ('e6', 'e0'), ('e4', 'e5'), ('e0', 'e2'), ('e1', 'e3'), ('e4', 'e6'), ('e6', 'e1'), ('e1', 'e5'), ('e6', 'e3'), ('e2', 'e3'), ('e3', 'e0'), ('e5', 'e6'), ('e0', 'e1'), ('e2', 'e6'), ('e2', 'e4'), ('e1', 'e2')} \n",
      "\n",
      " Faces \n",
      " {('e0', 'e4', 'e5'), ('e1', 'e2', 'e4'), ('e2', 'e3', 'e5'), ('e1', 'e5', 'e6'), ('e3', 'e4', 'e6'), ('e0', 'e1', 'e3'), ('e0', 'e2', 'e6')}\n"
     ]
    }
   ],
   "source": [
    "print(f'Vertices \\n {fano.vertices} \\n\\n Edges \\n {fano.simplices[1]} \\n\\n Faces \\n {fano.simplices[2]}')"
   ]
  },
  {
   "cell_type": "markdown",
   "metadata": {},
   "source": [
    "### Let's now verify that the following two functions give automorphism of the Fano plane:"
   ]
  },
  {
   "cell_type": "code",
   "execution_count": 4,
   "metadata": {},
   "outputs": [],
   "source": [
    "def f1(x):\n",
    "    return 'e' + str((int(x[1]) + 1) % 7)\n",
    "\n",
    "def f2(x):\n",
    "    return 'e' + str((int(x[1]) * 2) % 7)"
   ]
  },
  {
   "cell_type": "code",
   "execution_count": 5,
   "metadata": {},
   "outputs": [
    {
     "data": {
      "text/plain": [
       "True"
      ]
     },
     "execution_count": 5,
     "metadata": {},
     "output_type": "execute_result"
    }
   ],
   "source": [
    "fano.is_automorphism(f1)"
   ]
  },
  {
   "cell_type": "code",
   "execution_count": 6,
   "metadata": {},
   "outputs": [
    {
     "data": {
      "text/plain": [
       "True"
      ]
     },
     "execution_count": 6,
     "metadata": {},
     "output_type": "execute_result"
    }
   ],
   "source": [
    "fano.is_automorphism(f2)"
   ]
  },
  {
   "cell_type": "markdown",
   "metadata": {},
   "source": [
    "#### Feel free to take a peek at simplicial.py to see how we check if a function is an automorphism of an oriented simplicial complex.\n",
    "\n",
    "### Let's now try to find all automorphisms of the Fano plane"
   ]
  },
  {
   "cell_type": "code",
   "execution_count": 7,
   "metadata": {},
   "outputs": [],
   "source": [
    "from itertools import permutations\n",
    "\n",
    "verts = ['e0','e1','e2', 'e3', 'e4', 'e5', 'e6']\n",
    "\n",
    "perms = permutations(verts)\n",
    "perm_dicts = [{verts[i] : perm[i] for i in range(len(verts))} for perm in perms]\n",
    "perm_functions = [(lambda x: (lambda y: x[y]))(perm_dict) for perm_dict in perm_dicts]\n",
    "\n",
    "automorphisms = [perm_dicts[i] for i in range(len(perm_dicts)) if fano.is_automorphism(perm_functions[i])]"
   ]
  },
  {
   "cell_type": "code",
   "execution_count": 8,
   "metadata": {},
   "outputs": [
    {
     "data": {
      "text/plain": [
       "21"
      ]
     },
     "execution_count": 8,
     "metadata": {},
     "output_type": "execute_result"
    }
   ],
   "source": [
    "len(automorphisms)"
   ]
  },
  {
   "cell_type": "code",
   "execution_count": 9,
   "metadata": {},
   "outputs": [
    {
     "data": {
      "text/plain": [
       "[{'e0': 'e0',\n",
       "  'e1': 'e1',\n",
       "  'e2': 'e2',\n",
       "  'e3': 'e3',\n",
       "  'e4': 'e4',\n",
       "  'e5': 'e5',\n",
       "  'e6': 'e6'},\n",
       " {'e0': 'e0',\n",
       "  'e1': 'e2',\n",
       "  'e2': 'e4',\n",
       "  'e3': 'e6',\n",
       "  'e4': 'e1',\n",
       "  'e5': 'e3',\n",
       "  'e6': 'e5'},\n",
       " {'e0': 'e0',\n",
       "  'e1': 'e4',\n",
       "  'e2': 'e1',\n",
       "  'e3': 'e5',\n",
       "  'e4': 'e2',\n",
       "  'e5': 'e6',\n",
       "  'e6': 'e3'},\n",
       " {'e0': 'e1',\n",
       "  'e1': 'e2',\n",
       "  'e2': 'e3',\n",
       "  'e3': 'e4',\n",
       "  'e4': 'e5',\n",
       "  'e5': 'e6',\n",
       "  'e6': 'e0'},\n",
       " {'e0': 'e1',\n",
       "  'e1': 'e3',\n",
       "  'e2': 'e5',\n",
       "  'e3': 'e0',\n",
       "  'e4': 'e2',\n",
       "  'e5': 'e4',\n",
       "  'e6': 'e6'},\n",
       " {'e0': 'e1',\n",
       "  'e1': 'e5',\n",
       "  'e2': 'e2',\n",
       "  'e3': 'e6',\n",
       "  'e4': 'e3',\n",
       "  'e5': 'e0',\n",
       "  'e6': 'e4'},\n",
       " {'e0': 'e2',\n",
       "  'e1': 'e3',\n",
       "  'e2': 'e4',\n",
       "  'e3': 'e5',\n",
       "  'e4': 'e6',\n",
       "  'e5': 'e0',\n",
       "  'e6': 'e1'},\n",
       " {'e0': 'e2',\n",
       "  'e1': 'e4',\n",
       "  'e2': 'e6',\n",
       "  'e3': 'e1',\n",
       "  'e4': 'e3',\n",
       "  'e5': 'e5',\n",
       "  'e6': 'e0'},\n",
       " {'e0': 'e2',\n",
       "  'e1': 'e6',\n",
       "  'e2': 'e3',\n",
       "  'e3': 'e0',\n",
       "  'e4': 'e4',\n",
       "  'e5': 'e1',\n",
       "  'e6': 'e5'},\n",
       " {'e0': 'e3',\n",
       "  'e1': 'e0',\n",
       "  'e2': 'e4',\n",
       "  'e3': 'e1',\n",
       "  'e4': 'e5',\n",
       "  'e5': 'e2',\n",
       "  'e6': 'e6'},\n",
       " {'e0': 'e3',\n",
       "  'e1': 'e4',\n",
       "  'e2': 'e5',\n",
       "  'e3': 'e6',\n",
       "  'e4': 'e0',\n",
       "  'e5': 'e1',\n",
       "  'e6': 'e2'},\n",
       " {'e0': 'e3',\n",
       "  'e1': 'e5',\n",
       "  'e2': 'e0',\n",
       "  'e3': 'e2',\n",
       "  'e4': 'e4',\n",
       "  'e5': 'e6',\n",
       "  'e6': 'e1'},\n",
       " {'e0': 'e4',\n",
       "  'e1': 'e1',\n",
       "  'e2': 'e5',\n",
       "  'e3': 'e2',\n",
       "  'e4': 'e6',\n",
       "  'e5': 'e3',\n",
       "  'e6': 'e0'},\n",
       " {'e0': 'e4',\n",
       "  'e1': 'e5',\n",
       "  'e2': 'e6',\n",
       "  'e3': 'e0',\n",
       "  'e4': 'e1',\n",
       "  'e5': 'e2',\n",
       "  'e6': 'e3'},\n",
       " {'e0': 'e4',\n",
       "  'e1': 'e6',\n",
       "  'e2': 'e1',\n",
       "  'e3': 'e3',\n",
       "  'e4': 'e5',\n",
       "  'e5': 'e0',\n",
       "  'e6': 'e2'},\n",
       " {'e0': 'e5',\n",
       "  'e1': 'e0',\n",
       "  'e2': 'e2',\n",
       "  'e3': 'e4',\n",
       "  'e4': 'e6',\n",
       "  'e5': 'e1',\n",
       "  'e6': 'e3'},\n",
       " {'e0': 'e5',\n",
       "  'e1': 'e2',\n",
       "  'e2': 'e6',\n",
       "  'e3': 'e3',\n",
       "  'e4': 'e0',\n",
       "  'e5': 'e4',\n",
       "  'e6': 'e1'},\n",
       " {'e0': 'e5',\n",
       "  'e1': 'e6',\n",
       "  'e2': 'e0',\n",
       "  'e3': 'e1',\n",
       "  'e4': 'e2',\n",
       "  'e5': 'e3',\n",
       "  'e6': 'e4'},\n",
       " {'e0': 'e6',\n",
       "  'e1': 'e0',\n",
       "  'e2': 'e1',\n",
       "  'e3': 'e2',\n",
       "  'e4': 'e3',\n",
       "  'e5': 'e4',\n",
       "  'e6': 'e5'},\n",
       " {'e0': 'e6',\n",
       "  'e1': 'e1',\n",
       "  'e2': 'e3',\n",
       "  'e3': 'e5',\n",
       "  'e4': 'e0',\n",
       "  'e5': 'e2',\n",
       "  'e6': 'e4'},\n",
       " {'e0': 'e6',\n",
       "  'e1': 'e3',\n",
       "  'e2': 'e0',\n",
       "  'e3': 'e4',\n",
       "  'e4': 'e1',\n",
       "  'e5': 'e5',\n",
       "  'e6': 'e2'}]"
      ]
     },
     "execution_count": 9,
     "metadata": {},
     "output_type": "execute_result"
    }
   ],
   "source": [
    "automorphisms"
   ]
  },
  {
   "cell_type": "markdown",
   "metadata": {},
   "source": [
    "#### We can verify that the order of automorphism f1 is 7, and the order of automorphism f2 is 3, which means the size of the automorphism group of the Fano plane must be a multiple of 3 * 7 = 21. Since we found its size is *exactly* 21, this tells us f1 and f2 generate the automorphism group, so the automorphism group of the Fano plane has 21 elements."
   ]
  },
  {
   "cell_type": "code",
   "execution_count": null,
   "metadata": {},
   "outputs": [],
   "source": []
  }
 ],
 "metadata": {
  "kernelspec": {
   "display_name": "Python 3",
   "language": "python",
   "name": "python3"
  },
  "language_info": {
   "codemirror_mode": {
    "name": "ipython",
    "version": 3
   },
   "file_extension": ".py",
   "mimetype": "text/x-python",
   "name": "python",
   "nbconvert_exporter": "python",
   "pygments_lexer": "ipython3",
   "version": "3.8.1"
  }
 },
 "nbformat": 4,
 "nbformat_minor": 2
}
